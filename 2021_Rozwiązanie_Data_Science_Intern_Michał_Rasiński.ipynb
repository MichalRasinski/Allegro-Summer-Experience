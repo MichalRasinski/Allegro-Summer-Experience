{
  "nbformat": 4,
  "nbformat_minor": 0,
  "metadata": {
    "colab": {
      "name": "2021_Rozwiązanie_Data_Science_Intern_Michał_Rasiński.ipynb",
      "provenance": [],
      "collapsed_sections": [
        "gh54U5sbeXC7",
        "5IhTx-14duAR",
        "FFegoEj4d3a1",
        "AuW55mjGeMqW",
        "0wUHcArbeelp"
      ]
    },
    "kernelspec": {
      "name": "python3",
      "display_name": "Python 3"
    },
    "language_info": {
      "name": "python"
    }
  },
  "cells": [
    {
      "cell_type": "code",
      "metadata": {
        "id": "-ifhmmphgvSd"
      },
      "source": [
        "import datetime\n",
        "from collections import defaultdict\n",
        "\n",
        "import pandas as pd"
      ],
      "execution_count": 16,
      "outputs": []
    },
    {
      "cell_type": "markdown",
      "metadata": {
        "id": "zrX2kGhRdeP2"
      },
      "source": [
        "# Data loading and preprocessing"
      ]
    },
    {
      "cell_type": "code",
      "metadata": {
        "id": "dIYcO6IJgzY3"
      },
      "source": [
        "dir_path = \"\"\n",
        "customers = pd.read_csv(dir_path + 'olist_customers_dataset.csv')\n",
        "order_items = pd.read_csv(dir_path + 'olist_order_items_dataset.csv')\n",
        "orders = pd.read_csv(dir_path + 'olist_orders_dataset.csv')\n",
        "products = pd.read_csv(dir_path + 'olist_products_dataset.csv')\n",
        "product_category_name_translation = pd.read_csv(dir_path + 'product_category_name_translation.csv')\n"
      ],
      "execution_count": 17,
      "outputs": []
    },
    {
      "cell_type": "code",
      "metadata": {
        "id": "gNx6twGZouaK"
      },
      "source": [
        "USER_1 = {\"cat\": set((\"cama_mesa_banho\", \"papelaria\", \"fashion_calcados\")),\n",
        "          \"loc\": {\"city\": \"sao paulo\", \"state\": \"SP\"}}\n",
        "\n",
        "USER_2 = {\"cat\": set((\"esporte_lazer\", \"moveis_decoracao\", \"telefonia\")),\n",
        "          \"loc\": {\"city\": \"rio de janeiro\", \"state\": \"RJ\"}}\n",
        "\n",
        "USER_3 = {\"cat\": set(),\n",
        "          \"loc\": {\"city\": \"\", \"state\": \"\"}}\n",
        "\n",
        "DATE = datetime.date(2018, 8, 27)\n",
        "MONTH = 30\n"
      ],
      "execution_count": 18,
      "outputs": []
    },
    {
      "cell_type": "code",
      "metadata": {
        "id": "x2kvDhC2u2NY"
      },
      "source": [
        "complete_df = customers.merge(\n",
        "    orders[['order_id', 'customer_id', 'order_purchase_timestamp']],\n",
        "    on='customer_id'\n",
        ").merge(\n",
        "    order_items[['product_id', 'order_id']],\n",
        "    on='order_id'\n",
        ").merge(\n",
        "    products[['product_category_name', 'product_id']],\n",
        "    on='product_id')\n",
        "\n",
        "complete_df[\"date\"] = complete_df.order_purchase_timestamp.apply(\n",
        "    lambda x: datetime.datetime.strptime(x, '%Y-%m-%d %H:%M:%S').date())\n",
        "complete_df = complete_df.drop(['order_purchase_timestamp', 'customer_id',\n",
        "                                'customer_city', 'customer_zip_code_prefix',\n",
        "                                'order_id'],\n",
        "                               axis=1)\n",
        "complete_df = complete_df[complete_df.date < DATE]  # remove info from future\n",
        "\n",
        "date_diff = (DATE - complete_df.date).apply(lambda x: x.days)\n",
        "last_month_df = complete_df[(date_diff <= MONTH)]\n"
      ],
      "execution_count": 19,
      "outputs": []
    },
    {
      "cell_type": "code",
      "metadata": {
        "colab": {
          "base_uri": "https://localhost:8080/"
        },
        "id": "Fm2aSN2u64I7",
        "outputId": "4ab4605b-7292-418e-b171-7cbdbf206471"
      },
      "source": [
        "complete_df.columns"
      ],
      "execution_count": 20,
      "outputs": [
        {
          "output_type": "execute_result",
          "data": {
            "text/plain": [
              "Index(['customer_unique_id', 'customer_state', 'product_id',\n",
              "       'product_category_name', 'date'],\n",
              "      dtype='object')"
            ]
          },
          "metadata": {
            "tags": []
          },
          "execution_count": 20
        }
      ]
    },
    {
      "cell_type": "markdown",
      "metadata": {
        "id": "gh54U5sbeXC7"
      },
      "source": [
        "# Functions"
      ]
    },
    {
      "cell_type": "markdown",
      "metadata": {
        "id": "5IhTx-14duAR"
      },
      "source": [
        "## Similar customer functions"
      ]
    },
    {
      "cell_type": "code",
      "metadata": {
        "id": "6Ix6oCfOManc"
      },
      "source": [
        "def find_similar_customers(df, customer, n_shared_cat=2):\n",
        "    \"\"\"\n",
        "    Returns a list of customer id-s that bought products from at least\n",
        "    'n_shared_cat' categories liked by the 'customer'.\n",
        "    \"\"\"\n",
        "    customers_cats = df.groupby('customer_unique_id').aggregate(\n",
        "        {'product_category_name': set})\n",
        "    \n",
        "    shared_categories = customers_cats.product_category_name.apply(\n",
        "        lambda x: len(x.intersection(customer['cat'])))\n",
        "    shared_categories = shared_categories[shared_categories >= n_shared_cat]\n",
        "    return list(shared_categories.index)\n",
        "\n",
        "\n",
        "def find_products_by_customer(df, cust_id):\n",
        "    \"\"\"\n",
        "    Returns a list of named tuples containing id of a product and its quantity \n",
        "    bought by the customer.\n",
        "    \"\"\"\n",
        "    customer_records = df[df.customer_unique_id == cust_id]\n",
        "    bought_products = customer_records.groupby('product_id').aggregate(\n",
        "        count=pd.NamedAgg(column=\"date\", aggfunc=\"count\")\n",
        "    )\n",
        "    return [x for x in bought_products.itertuples()]\n",
        "\n",
        "\n",
        "def find_similar_customer_products(df, customer, n_shared_cat=2, top_n=10):\n",
        "    \"\"\"\n",
        "    Returns a list of 'top_n' products that were bought by potentially \n",
        "    similar customers. Customers are similar if they share at least \n",
        "    'n_shared_cat' categories. Products bought by a customer are an indicator\n",
        "    of liked categories.  \n",
        "    \"\"\"\n",
        "    customers_list = find_similar_customers(df, customer, n_shared_cat)\n",
        "    product_dict = defaultdict(lambda: 0)\n",
        "    \n",
        "    for cust_id in customers_list:\n",
        "        for product in find_products_by_customer(df, cust_id):\n",
        "            product_dict[product.Index] += product.count\n",
        "\n",
        "    product_list = [(prod, count) for prod, count in product_dict.items()]\n",
        "    product_list.sort(key=lambda x: x[1], reverse=True)\n",
        "    \n",
        "    top_products = [p[0] for p in product_list]\n",
        "    return top_products[:top_n]\n"
      ],
      "execution_count": 21,
      "outputs": []
    },
    {
      "cell_type": "markdown",
      "metadata": {
        "id": "FFegoEj4d3a1"
      },
      "source": [
        "## Finding products functions"
      ]
    },
    {
      "cell_type": "code",
      "metadata": {
        "id": "81w7j6f6nIE8"
      },
      "source": [
        "def find_popular_categories(df, n=10):\n",
        "    \"\"\"\n",
        "    Returns list of n ordered categories with biggest sale.\n",
        "    \"\"\"\n",
        "    sale = df.groupby('product_category_name').aggregate(\n",
        "        count=pd.NamedAgg(column=\"date\", aggfunc=\"count\")\n",
        "    )\n",
        "    sale = sale.sort_values(by='count', ascending=False)\n",
        "    return list(sale.index[:n])\n",
        "\n",
        "\n",
        "def find_bestsellers(df, category=None, state=None, top_n=10):\n",
        "    \"\"\"\n",
        "    Returns top_n products with biggest sale.\n",
        "    If 'category' provided, then returns month bestsellers from the category.\n",
        "    \"\"\"\n",
        "    if category:\n",
        "        df = df[df.product_category_name == category]\n",
        "    if state:\n",
        "        df = df[df.customer_state == state]\n",
        "\n",
        "    sale = df.groupby('product_id').aggregate(\n",
        "        count=pd.NamedAgg(column=\"date\", aggfunc=\"count\")\n",
        "    )\n",
        "    sale = sale.sort_values(by='count', ascending=False)\n",
        "    return list(sale.index[:top_n])\n",
        "\n",
        "\n",
        "def find_trending_products(df, date, period=14, compare_period=28, top_n=10):\n",
        "    \"\"\"\n",
        "    Returns top_n products with biggest percentage increase in sale between\n",
        "    two periods of time: older and younger. \n",
        "    older_period = (date - compare_period(in days)) : (date - period(in days))\n",
        "    younger_period = (date - period) : date\n",
        "    \"\"\"\n",
        "    date_diff = (date - df.date).apply(lambda x: x.days)\n",
        "    old_sale = df[\n",
        "        (date_diff <= compare_period) & (date_diff > period)\n",
        "        ]\n",
        "    old_sale_count = old_sale.groupby('product_id').aggregate(\n",
        "        count_old=pd.NamedAgg(column=\"date\", aggfunc=\"count\")\n",
        "    )\n",
        "\n",
        "    new_sale = df[(date_diff <= period)]\n",
        "    new_sale_count = new_sale.groupby('product_id').aggregate(\n",
        "        count_new=pd.NamedAgg(column=\"date\", aggfunc=\"count\")\n",
        "    )\n",
        "\n",
        "    sales = old_sale_count.merge(new_sale_count, on='product_id')\n",
        "    sales['ratio'] = sales.count_new / sales.count_old\n",
        "    sales = sales.sort_values(by='ratio', ascending=False)\n",
        "    sales = sales[sales.ratio > 1]\n",
        "    return list(sales.index[:top_n])\n",
        "\n",
        "\n",
        "def find_sezonal_products(df, date_month, top_n=10):\n",
        "    \"\"\"\n",
        "    Returns an ordered list of products that were sold more often in the\n",
        "    given month comparing to a whole year.\n",
        "    \"\"\"\n",
        "    year_df = df[\n",
        "        (df.date >= datetime.date(2017, 1, 1))\n",
        "        & (df.date < datetime.date(2018, 1, 1))\n",
        "        ]\n",
        "    year_sale = year_df.groupby('product_id').aggregate(\n",
        "        year_sale=pd.NamedAgg(column=\"date\", aggfunc=\"count\"))\n",
        "\n",
        "    year_sale = year_sale[year_sale > 1]\n",
        "    year_mean = year_sale / 12\n",
        "    year_mean.columns = [\"year_mean\"]\n",
        "\n",
        "    month_df = df[(df.date.apply(lambda x: x.month) == date_month)]\n",
        "    month_sale = month_df.groupby('product_id').aggregate(\n",
        "        month_sale=pd.NamedAgg(column=\"date\", aggfunc=\"count\"))\n",
        "    month_sale = month_sale.merge(year_mean, on=\"product_id\")\n",
        "    month_sale[\"ratio\"] = month_sale.month_sale / month_sale.year_mean\n",
        "    month_sale = month_sale.sort_values(by=['ratio', 'month_sale'], ascending=False)\n",
        "    return list(month_sale.index[:top_n])\n"
      ],
      "execution_count": 22,
      "outputs": []
    },
    {
      "cell_type": "markdown",
      "metadata": {
        "id": "AuW55mjGeMqW"
      },
      "source": [
        "# Recomendations construction"
      ]
    },
    {
      "cell_type": "code",
      "metadata": {
        "id": "61ZD_bO5okgC"
      },
      "source": [
        "def get_records_from_last_days(df, date, days=30):\n",
        "    date_diff = (date - df.date).apply(lambda x: x.days)\n",
        "    last_days_df = df[(date_diff <= days)]\n",
        "    return last_days_df\n",
        "\n",
        "\n",
        "def fill_recomendations(rec, products, limit):\n",
        "    for prod in products:\n",
        "        if prod not in rec:\n",
        "            rec.append(prod)\n",
        "            if len(rec) == limit:\n",
        "                return\n",
        "\n",
        "\n",
        "def make_personal_recomendation_list(df, customer, date):\n",
        "    recomendations = []\n",
        "    last_month_df = get_records_from_last_days(df, date)\n",
        "\n",
        "    # 3 bestsellers from liked categories\n",
        "    for cat in customer['cat']:\n",
        "        recomendations.append(find_bestsellers(last_month_df, category=cat)[0])\n",
        "\n",
        "    # 3 top products that similar people bought\n",
        "    fill_recomendations(recomendations,\n",
        "                        find_similar_customer_products(df, customer, top_n=6),\n",
        "                        6)\n",
        "\n",
        "    # 1 bestsellers from last month and the same state\n",
        "    fill_recomendations(recomendations,\n",
        "                        find_bestsellers(last_month_df,\n",
        "                                         state=customer['loc']['state'],\n",
        "                                         top_n=7),\n",
        "                        7)\n",
        "\n",
        "    # 2 trending product\n",
        "    fill_recomendations(recomendations,\n",
        "                        find_trending_products(last_month_df, date, top_n=9),\n",
        "                        9)\n",
        "\n",
        "    # 1 last month bestseller\n",
        "    fill_recomendations(recomendations,\n",
        "                        find_bestsellers(last_month_df, top_n=10),\n",
        "                        10)\n",
        "\n",
        "    return recomendations\n",
        "\n",
        "\n",
        "def make_general_recomendation_list(df, date):\n",
        "    recomendations = []\n",
        "    last_month_df = get_records_from_last_days(df, date)\n",
        "    top_categories = find_popular_categories(last_month_df, n=2)\n",
        "\n",
        "    # 2 trending products from 2 most popular categories\n",
        "    fill_recomendations(recomendations,\n",
        "                        find_trending_products(df, date, top_n=2),\n",
        "                        2)\n",
        "\n",
        "    # 2 bestsellers from 2 most popular categories\n",
        "    for limit, cat in enumerate(top_categories, start=3):\n",
        "        fill_recomendations(recomendations,\n",
        "                            find_bestsellers(last_month_df,\n",
        "                                             category=cat,\n",
        "                                             top_n=4),\n",
        "                            limit)\n",
        "\n",
        "    # 2 sezonal products\n",
        "    fill_recomendations(recomendations,\n",
        "                        find_sezonal_products(df, date.month, top_n=6),\n",
        "                        6)\n",
        "\n",
        "    # 2 last month bestsellers\n",
        "    fill_recomendations(recomendations,\n",
        "                        find_bestsellers(last_month_df, top_n=8),\n",
        "                        8)\n",
        "\n",
        "    # 2 absolute bestsellers\n",
        "    fill_recomendations(recomendations,\n",
        "                        find_bestsellers(df, top_n=10),\n",
        "                        10)\n",
        "\n",
        "    return recomendations\n"
      ],
      "execution_count": 23,
      "outputs": []
    },
    {
      "cell_type": "markdown",
      "metadata": {
        "id": "0wUHcArbeelp"
      },
      "source": [
        "# Solution"
      ]
    },
    {
      "cell_type": "code",
      "metadata": {
        "colab": {
          "base_uri": "https://localhost:8080/"
        },
        "id": "YhAjDrrpxaMB",
        "outputId": "2f39e0b6-2e9e-4a79-ee73-dbe1d283e281"
      },
      "source": [
        "make_personal_recomendation_list(complete_df, USER_1, DATE)"
      ],
      "execution_count": 24,
      "outputs": [
        {
          "output_type": "execute_result",
          "data": {
            "text/plain": [
              "['fbce4c4cb307679d89a3bf3d3bb353b9',\n",
              " '002159fe700ed3521f46cfcf6e941c76',\n",
              " '7c1e2b3fa0233e46fb3bcdcb9919a72f',\n",
              " '704ef63ad0ac345842ea734060a83db2',\n",
              " '90ef6790cfc145cf45f9c476d1f47af0',\n",
              " '372645c7439f9661fbbacfd129aa92ec',\n",
              " '73326828aa5efe1ba096223de496f596',\n",
              " '027cdd14a677a5834bc67a9789db5021',\n",
              " 'c6336fa91fbd87c359e44f5dca5a90ed',\n",
              " 'e7cc48a9daff5436f63d3aad9426f28b']"
            ]
          },
          "metadata": {
            "tags": []
          },
          "execution_count": 24
        }
      ]
    },
    {
      "cell_type": "code",
      "metadata": {
        "colab": {
          "base_uri": "https://localhost:8080/"
        },
        "id": "nV0DJWLYpkKj",
        "outputId": "9c1da3e2-60e4-41c3-8a77-a4595b65b86a"
      },
      "source": [
        "make_personal_recomendation_list(complete_df, USER_2, DATE)"
      ],
      "execution_count": 25,
      "outputs": [
        {
          "output_type": "execute_result",
          "data": {
            "text/plain": [
              "['054515fd15bc1a2029f10de97ffa9120',\n",
              " 'e7cc48a9daff5436f63d3aad9426f28b',\n",
              " 'b532349fe46b38fbc7bb3914c1bdae07',\n",
              " '35b9cce4c9cd4359551a3d702b25ad4c',\n",
              " 'bbf920aa6ac72007a726e6f419156f8f',\n",
              " 'cdc9d87e17ccf98f35634e6c3b77073e',\n",
              " 'fbc1488c1a1e72ba175f53ab29a248e8',\n",
              " '027cdd14a677a5834bc67a9789db5021',\n",
              " 'c6336fa91fbd87c359e44f5dca5a90ed',\n",
              " '73326828aa5efe1ba096223de496f596']"
            ]
          },
          "metadata": {
            "tags": []
          },
          "execution_count": 25
        }
      ]
    },
    {
      "cell_type": "code",
      "metadata": {
        "colab": {
          "base_uri": "https://localhost:8080/"
        },
        "id": "ktdz1l1e6vWQ",
        "outputId": "fe6c8be6-a5ca-4d1c-ab06-ecd48aea7330"
      },
      "source": [
        "make_general_recomendation_list(complete_df, DATE)"
      ],
      "execution_count": 26,
      "outputs": [
        {
          "output_type": "execute_result",
          "data": {
            "text/plain": [
              "['027cdd14a677a5834bc67a9789db5021',\n",
              " 'c6336fa91fbd87c359e44f5dca5a90ed',\n",
              " 'bb50f2e236e5eea0100680137654686c',\n",
              " 'fbce4c4cb307679d89a3bf3d3bb353b9',\n",
              " '18b0e642cbae7251e60a64aa07dd9eb9',\n",
              " 'c20a3f598c16d77249da67e81caa8317',\n",
              " 'e7cc48a9daff5436f63d3aad9426f28b',\n",
              " '73326828aa5efe1ba096223de496f596',\n",
              " 'aca2eb7d00ea1a7b8ebd4e68314663af',\n",
              " '99a4788cb24856965c36a24e339b6058']"
            ]
          },
          "metadata": {
            "tags": []
          },
          "execution_count": 26
        }
      ]
    }
  ]
}